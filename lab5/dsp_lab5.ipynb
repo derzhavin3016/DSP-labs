{
 "cells": [
  {
   "cell_type": "markdown",
   "metadata": {
    "id": "co5Dkli3a32E"
   },
   "source": [
    "# Лабораторная работа №5.  Цифровой спектральный анализ."
   ]
  },
  {
   "cell_type": "code",
   "execution_count": 1,
   "metadata": {
    "id": "qDBynqm-a32I"
   },
   "outputs": [],
   "source": [
    "import numpy as np\n",
    "from scipy import signal\n",
    "import matplotlib.pyplot as plt\n",
    "\n",
    "\n",
    "def DTFT(x, M):\n",
    "    \"\"\"\n",
    "    Функция вычисляет значения ДВПФ в M точках на отрезке\n",
    "    по оси нормированных частот [-0.5; 0.5]\n",
    "\n",
    "    Parameters\n",
    "    ----------\n",
    "    x : complex\n",
    "        входная последовательность отсчетов, первый отсчет при k=0\n",
    "    M : int\n",
    "        колличество точек на отрезке [-0.5; 0.5]\n",
    "\n",
    "    Returns\n",
    "    -------\n",
    "    float\n",
    "        значения оси нормированных частот,\n",
    "        соотвествующих вычисленным значениям\n",
    "        спектральной функции\n",
    "    complex\n",
    "        значения спектральной функции\n",
    "    \"\"\"\n",
    "    return (\n",
    "        np.fft.fftshift(np.fft.fftfreq(M, d=1)),\n",
    "        np.fft.fftshift(np.fft.fft(x, M)),\n",
    "    )"
   ]
  },
  {
   "cell_type": "code",
   "execution_count": 2,
   "metadata": {
    "id": "18YMwJL6a32J"
   },
   "outputs": [],
   "source": [
    "%matplotlib inline"
   ]
  },
  {
   "cell_type": "code",
   "execution_count": 4,
   "metadata": {
    "id": "RLI3VTWqa32J"
   },
   "outputs": [],
   "source": [
    "%matplotlib ipympl"
   ]
  },
  {
   "cell_type": "markdown",
   "metadata": {
    "id": "Gb4hOrDTa32K"
   },
   "source": [
    "# Модуль 1. Окна в спектральном анализе методом ДПФ, алгоритмы вычисления ДПФ."
   ]
  },
  {
   "cell_type": "markdown",
   "metadata": {
    "id": "4eB4CGq7a32K"
   },
   "source": [
    "## Задача 1.1. Окна в спектральном анализе\n",
    "\n",
    "| Варианты: |       1      |     2     |         3        |      4     |        5        |        6       |\n",
    "|:---------:|:------------:|:---------:|:----------------:|:----------:|:---------------:|:--------------:|\n",
    "| $w_1[k]$ | прямоугольное | прямоугольное | прямоугольное | прямоугольное | прямоугольное | прямоугольное |\n",
    "| $w_2[k]$ | Бартлетта | Хэмминга | Хэмминга | Бартлетта | Бартлетта | Хэмминга |\n",
    "| $w_3[k]$ | Flattop | Flattop | Flattop | Flattop | Flattop | Flattop |\n",
    "| $n_0$ | $20$ | $16$ | $22$  | $24$  | $25$  | $18$  |\n",
    "\n",
    "\n",
    "\n",
    "Постройте графики для трех окон длины $N=64$ из таблицы во временной  области ($w_i[k]$, $i=1, 2,3$) и в частотной  области (ДВПФ в линейном масштабе и в дБ). \n",
    "Для каждого из окон графически определите следующие параметры.\n",
    "* Ширину $\\Delta \\nu$ главного лепестка на нулевом уровне.\n",
    "* Ширину $\\Delta \\nu$  главного лепестка на уровне -3дБ от максимума модуля ДВПФ.\n",
    "* Ширину $\\Delta \\nu$  главного лепестка на уровне -6дБ от максимума модуля ДВПФ.\n",
    "* Максимальный уровень боковых лепестков в дБ относительно главного. \n",
    "\n",
    "Произведите спектральный анализ с помощью ДПФ размерности $M=2048$ последовательности \n",
    "$$x[k]=\\cos\\left(2\\pi \\dfrac{n_0}{64} k\\right)+ \\cos\\left(2\\pi \\dfrac{n_0+2}{64} k\\right)$$\n",
    " со взвешиванием этими оконными функциями. Ответьте на следующие вопросы.\n",
    " \n",
    "1) Для каких оконных функций гармонические компоненты оказались различимы и почему?\n",
    "\n",
    "2) Как влияет максимальный уровень боковых лепестков на результат спектрального анализа? \n"
   ]
  },
  {
   "cell_type": "code",
   "execution_count": null,
   "metadata": {
    "id": "fOhqkWdna32K"
   },
   "outputs": [],
   "source": []
  },
  {
   "cell_type": "markdown",
   "metadata": {
    "id": "O43cZAqhGl2e"
   },
   "source": [
    "## Задача 1.2. Алгоритмы вычисления ДПФ.\n",
    "| Варианты: |       1      |     2     |         3        |      4     |        5        |        6       |\n",
    "|:---------:|:------------:|:---------:|:----------------:|:----------:|:---------------:|:--------------:|\n",
    "| **Имя файла** | major-scale-piano.wav | xylophone1.wav | xylophone9.wav | glockenspiel1.wav | flute.wav | glockenspiel2.wav |\n",
    "\n",
    "1) Используя данные из файла, сформировать последовательность $x[k]$ длиной 2048 отсчетов (например, по отсчетам сигнала из середины записи). \n",
    "\n",
    "2) Вычислить 2048-точечное ДПФ для $x[k]$, используя \n",
    "* а) матричную форму ДПФ, \n",
    "* б) быстрое преобразование Фурье. \n",
    "\n",
    "Сравнить результаты. \n",
    "\n",
    "3) Написать программу вычисления одного отсчета ДПФ по алгоритму Герцеля. Сравнить результаты вычислений с БПФ для любых трех значений $n$. \n",
    "\n",
    "---\n",
    "\n",
    "**Алгоритм Герцеля**\n",
    "\n",
    "1. Для $m=0,\\,1,\\, \\dots,\\, N-1$ определяем \n",
    "\n",
    "$${{V}_{n}}[m]=x[m]+2\\cos (2\\pi n/N){{V}_{n}}[m-1]-{{V}_{n}}[m-2],\\quad 0\\le m\\le N-1,$$\n",
    "\n",
    "2. Вычисляем $X[n]$ (при $m=N-1$):\n",
    "\n",
    "$$X[n]={{\\left. {{y}_{n}}[m] \\right|}_{m=N-1}}={{\\left. \\left( W_{N}^{-n}{{V}_{n}}[m]-{{V}_{n}}[m-1] \\right) \\right|}_{m=N-1}}.$$\n",
    "$$V_n[-1]=V_n [-2] = 0$$\n",
    "\n",
    "---\n",
    "\n"
   ]
  },
  {
   "cell_type": "code",
   "execution_count": null,
   "metadata": {
    "id": "E9akrOySGl_F"
   },
   "outputs": [],
   "source": []
  },
  {
   "cell_type": "markdown",
   "metadata": {
    "id": "9-k_CoR0GUKV"
   },
   "source": [
    "# Модуль 2. Кратковременное дискретное преобразование Фурье"
   ]
  },
  {
   "cell_type": "markdown",
   "metadata": {
    "id": "DR3FtETua32N"
   },
   "source": [
    "## Задача 2.1. Кратковременное ДПФ (STFT)\n",
    "\n",
    "| Варианты: |       1      |     2     |         3        |      4     |        5        |        6       |\n",
    "|:---------:|:------------:|:---------:|:----------------:|:----------:|:---------------:|:--------------:|\n",
    "| **Имя файла** | major-scale-piano.wav | xylophone1.wav | xylophone9.wav | glockenspiel1.wav | flute.wav | glockenspiel2.wav |\n",
    "\n",
    "\n",
    "Вычислите с помощью Python кратковременное дискретное преобразование Фурье (STFT) для отсчетов сигнала, содержащихся в аудиофайле из таблицы. Изобразите спектрограмму сигнала. Длину окна $M$, тип оконной функции, число точек в перекрытии $L$, масштабы осей и размерность ДПФ $N_\\text{FFT}$ самостоятельно подберите так, чтобы можно было выделить гармонические компоненты в сигнале. Ответьте на следующие вопросы.\n",
    "\n",
    "1) Какие выводы можно сделать о составе данного сигнала по спектрограмме?  \n",
    "\n",
    "2) Чему равны длина окна и размер перекрытия в секундах? Как это соотносится с графиком?\n",
    "\n",
    "3) Какое разрешение по времени и какое по частоте для данной спектрограммы? \n",
    "\n",
    "4) Какие изменения можно наблюдать в спектрограмме, если изменяется:\n",
    "\n",
    "* а) тип оконной функции,\n",
    "* б) длина окна $M$,\n",
    "* в) размерность ДПФ $N_\\text{FFT}$ за счет дополнения нулевыми отсчетами?\n",
    "\n",
    "\n",
    "\n",
    "\n",
    "\n",
    "\n",
    "\n",
    "\n"
   ]
  },
  {
   "cell_type": "code",
   "execution_count": null,
   "metadata": {
    "id": "ajyjzUVia32O"
   },
   "outputs": [],
   "source": []
  },
  {
   "cell_type": "markdown",
   "metadata": {
    "id": "KhNPMtv0a32O"
   },
   "source": [
    "#  Модуль 3. Периодограммные методы оценки СПМ"
   ]
  },
  {
   "cell_type": "markdown",
   "metadata": {
    "id": "LigZKkdGa32O"
   },
   "source": [
    "## Задача 3.1. Интерполяция периодограммы дополнением нулевых отсчетов (Zero Padding)\n",
    "\n",
    "| Варианты: |       1      |     2     |         3        |      4     |        5        |        6       |\n",
    "|:---------:|:------------:|:---------:|:----------------:|:----------:|:---------------:|:--------------:|\n",
    "| **Имя файла** | variant_1_ex_2_1.npy | variant_2_ex_2_1.npy | variant_3_ex_2_1.npy | variant_4_ex_2_1.npy | variant_5_ex_2_1.npy| variant_6_ex_2_1.npy|\n",
    "\n",
    "По представленным в файле отсчетам сигнала построить периодограмму, для которой размерность ДПФ совпадает с длительность сигнала. Сравнить ее с периодограммой, для которой размерность ДПФ в 8 раз больше. Частота дискретизации  $f_s=16$ кГц. Ответить на вопросы.\n",
    "\n",
    "1) Какое разрешение по частоте, обусловленное сеткой частот ДПФ, у периодограммы в первом и во втором случае?\n",
    "\n",
    "2) Как частота наблюдаемой гармонической компоненты соотносится с сеткой частот ДПФ в первом и во втором случае? \n",
    "\n",
    "3) Почему расчет периодограммы достаточно провести для интервала частот $f \\in [0; 0,5f_s]$?\n",
    "\n",
    "Ниже приведен пример кода, позволяющий выгрузить отчеты сигнала $x[k]$  (`x`). "
   ]
  },
  {
   "cell_type": "code",
   "execution_count": 4,
   "metadata": {
    "id": "LktU7183a32P"
   },
   "outputs": [],
   "source": [
    "x = np.load(\"data/variant_2_ex_2_1.npy\")\n",
    "fs = 16_000"
   ]
  },
  {
   "cell_type": "code",
   "execution_count": 10,
   "metadata": {
    "id": "a9TX6kBWa32P"
   },
   "outputs": [
    {
     "data": {
      "image/png": "[encoded data removed]",
      "text/plain": [
       "<Figure size 648x216 with 1 Axes>"
      ]
     },
     "metadata": {
      "needs_background": "light"
     },
     "output_type": "display_data"
    }
   ],
   "source": [
    "plt.figure(figsize=[9, 3])\n",
    "f, Pxx_den = signal.periodogram(\n",
    "    x, fs=fs, nfft=x.shape[0], scaling=\"density\"\n",
    ")\n",
    "plt.plot(f, Pxx_den / 2)\n",
    "plt.xlim([0, fs / 2])\n",
    "plt.grid()\n",
    "plt.title(\"$N = %i$\" % len(x))\n",
    "plt.xlabel(\"Частота, Гц\")\n",
    "plt.ylabel(\"Оценка СПМ, Bт/Гц\")\n",
    "plt.tight_layout()\n",
    "# plt.savefig('psd_1.svg')\n",
    "plt.show()"
   ]
  },
  {
   "cell_type": "code",
   "execution_count": 11,
   "metadata": {},
   "outputs": [
    {
     "data": {
      "image/png": "[encoded data removed]",
      "text/plain": [
       "<Figure size 648x216 with 1 Axes>"
      ]
     },
     "metadata": {
      "needs_background": "light"
     },
     "output_type": "display_data"
    }
   ],
   "source": [
    "plt.figure(figsize=[9, 3])\n",
    "f, Pxx_den = signal.periodogram(\n",
    "    x, fs=fs, nfft=x.shape[0] * 8, scaling=\"density\"\n",
    ")\n",
    "plt.plot(f, Pxx_den / 2)\n",
    "plt.xlim([0, fs / 2])\n",
    "plt.grid()\n",
    "plt.title(\"$N = %i$\" % len(x))\n",
    "plt.xlabel(\"Частота, Гц\")\n",
    "plt.ylabel(\"Оценка СПМ, Bт/Гц\")\n",
    "plt.tight_layout()\n",
    "# plt.savefig('psd_1.svg')\n",
    "plt.show()"
   ]
  },
  {
   "cell_type": "markdown",
   "metadata": {
    "id": "IGel6EsQa32P"
   },
   "source": [
    "## Задача 3.2. Выделение синусоиды на фоне шума\n",
    "Постройте периодограмму для оценки СПМ процесса, по выборкам, которые могут быть описаны формулой\n",
    "\n",
    "$$x[k]=a_1 \\sin(2\\pi k f_0 /f_s) + \\varepsilon[k], \\;\\; k=0, 1, \\dots, N-1,$$\n",
    "\n",
    "где $N=64$, $\\varepsilon[k]$ — дискретный белый гауссовский шум c нулевым средним и с дисперсией $\\sigma^2=400$ (`scale=20`), $a_1=5$, частота дискретизации  $f_s=16$ кГц, $f_0=2$ кГц.\n",
    "\n",
    "Определите, возможно ли выделение гармонической компоненты в периодограмме на фоне шума (при $N=64$)? Вычислите такую длину записи (реализации), чтобы математическое ожидание оценки СПМ для чистого сигнала на частоте $f_0$ превосходило в 40 раз  математическое ожидание оценки СПМ шума. Постройте периодограмму для такого случая."
   ]
  },
  {
   "cell_type": "code",
   "execution_count": 12,
   "metadata": {},
   "outputs": [
    {
     "name": "stdout",
     "output_type": "stream",
     "text": [
      "A^2 N / 4 =  400.0\n",
      "sigma^2 =  400\n"
     ]
    },
    {
     "data": {
      "image/png": "[encoded data removed]",
      "text/plain": [
       "<Figure size 576x216 with 1 Axes>"
      ]
     },
     "metadata": {
      "needs_background": "light"
     },
     "output_type": "display_data"
    }
   ],
   "source": [
    "N = 64\n",
    "k = np.arange(N)\n",
    "A = 5\n",
    "fs = 16_000\n",
    "f1 = 2_000\n",
    "x = A * np.sin(2 * np.pi * k * f1 / fs) + np.random.normal(scale=20, size=N)\n",
    "\n",
    "print(\"A^2 N / 4 = \", A**2 * N / 4)\n",
    "print(\"sigma^2 = \", 400)\n",
    "\n",
    "f, Pxx_den = signal.periodogram(\n",
    "    x, fs=fs, window=\"boxcar\", nfft=2**11, scaling=\"density\"\n",
    ")\n",
    "plt.figure(figsize=[8, 3])\n",
    "plt.grid()\n",
    "plt.title(\"$N = %i$\" % len(x))\n",
    "plt.plot(f, Pxx_den / 2, \"-\")\n",
    "plt.xlabel(\"Частота, Гц\")\n",
    "plt.ylabel(\"Оценка СПМ, Bт/Гц\")\n",
    "plt.xlim([0, fs / 2])\n",
    "plt.tight_layout()\n",
    "# plt.savefig('psd_3.svg')\n",
    "plt.show()"
   ]
  },
  {
   "cell_type": "code",
   "execution_count": 18,
   "metadata": {},
   "outputs": [
    {
     "name": "stdout",
     "output_type": "stream",
     "text": [
      "A^2 N / 4 =  409600.0\n",
      "sigma^2 =  400\n"
     ]
    },
    {
     "data": {
      "image/png": "[encoded data removed]",
      "text/plain": [
       "<Figure size 576x216 with 1 Axes>"
      ]
     },
     "metadata": {
      "needs_background": "light"
     },
     "output_type": "display_data"
    }
   ],
   "source": [
    "N = 2**16\n",
    "k = np.arange(N)\n",
    "A = 5\n",
    "fs = 16_000\n",
    "f1 = 2_000\n",
    "x = A * np.sin(2 * np.pi * k * f1 / fs) + np.random.normal(scale=20, size=N)\n",
    "\n",
    "print(\"A^2 N / 4 = \", A**2 * N / 4)\n",
    "print(\"sigma^2 = \", 400)\n",
    "\n",
    "f, Pxx_den = signal.periodogram(\n",
    "    x, fs=fs, window=\"boxcar\", nfft=2**11, scaling=\"density\"\n",
    ")\n",
    "plt.figure(figsize=[8, 3])\n",
    "plt.grid()\n",
    "plt.title(\"$N = %i$\" % len(x))\n",
    "plt.plot(f, Pxx_den / 2, \"-\")\n",
    "plt.xlabel(\"Частота, Гц\")\n",
    "plt.ylabel(\"Оценка СПМ, Bт/Гц\")\n",
    "plt.xlim([0, fs / 2])\n",
    "plt.tight_layout()\n",
    "# plt.savefig('psd_3.svg')\n",
    "plt.show()"
   ]
  },
  {
   "cell_type": "markdown",
   "metadata": {
    "id": "kFna5Ox0a32P"
   },
   "source": [
    "#  Модуль 4. Методы оценки СПМ (продолжение)"
   ]
  },
  {
   "cell_type": "markdown",
   "metadata": {
    "id": "Hd1_P9Wna32P"
   },
   "source": [
    "## Задача 4.1. Методы Уэлча и  Блэкмана-Тьюки\n",
    "\n",
    "| Варианты: |       1      |     2     |         3        |      4     |        5        |        6       |\n",
    "|:---------:|:------------:|:---------:|:----------------:|:----------:|:---------------:|:--------------:|\n",
    "| **Имя файла** | variant_1_ex_3_1.npy | variant_2_ex_3_1.npy | variant_3_ex_3_1.npy | variant_4_ex_3_1.npy | variant_5_ex_3_1.npy| variant_6_ex_3_1.npy|\n",
    "\n",
    "По отсчетам из файла (см. таблицу) постройте оценку СПМ по методам:\n",
    "* периодограмм,\n",
    "* Блэкмана-Тьюки,\n",
    "* модифицированных периодограмм Уэлча.\n",
    "\n",
    "Сделайте выводы о составе процесса. Выбор параметров оценок СПМ осуществите самостоятельно. Частота дискретизации $f_s=16$ кГц. Сравните результаты. \n",
    "\n",
    "Оцените частоту $f_1$, если известно, что случайный процесс, СПМ которого оценивается по этим выборкам, имеет вид \n",
    "$$x(t)=a_1 \\sin(2\\pi f_1 t) + \\varepsilon(t),$$\n",
    "где $\\varepsilon(t)$ — белый шум с нулевым математическим ожиданием.\n"
   ]
  },
  {
   "cell_type": "code",
   "execution_count": null,
   "metadata": {
    "id": "SBymWOHEa32Q"
   },
   "outputs": [],
   "source": [
    "x = np.load(\"variant_N_ex_3_1.npy\")"
   ]
  },
  {
   "cell_type": "code",
   "execution_count": null,
   "metadata": {
    "id": "6_r4vjtXa32Q"
   },
   "outputs": [],
   "source": []
  },
  {
   "cell_type": "markdown",
   "metadata": {
    "id": "n36i7wI3a32X"
   },
   "source": [
    "## Задача 4.2*. Метод Блэкмана-Тьюки для несмещенной оценки АКФ\n",
    "\n",
    "Модифицируйте функции `auto_correlation` и `blackman_tukey_estimator` так, чтобы их можно было использовать и с несмещенной оценкой АКФ (со значениями соответствующих параметров `unbiased`). Постойте оценку СПМ по методу Блэкмана-Тьюки с несмещенной оценкой АКФ для данных из задачи 4.1. Выбор окна и размерность ДПФ осуществить самостоятельно. Сравните результат с задачей 4.1. "
   ]
  },
  {
   "cell_type": "code",
   "execution_count": null,
   "metadata": {
    "id": "R8v0XaQOa32Y"
   },
   "outputs": [],
   "source": [
    "def auto_correlation(x, N1, mode=\"biased\"):\n",
    "    Rx = signal.correlate(x, x) / len(x)\n",
    "    lag = np.arange(-(len(x) - 1), len(x))\n",
    "    return Rx[np.logical_and(lag <= N1 - 1, lag >= 0)]\n",
    "\n",
    "\n",
    "def blackman_tukey_estimator(\n",
    "    x, window=\"bartlett\", Nfft=None, auto_correlation_mode=\"biased\", fs=1\n",
    "):\n",
    "    N = len(x)\n",
    "    N1 = int(np.ceil(N / 10))\n",
    "    if Nfft is None:\n",
    "        Nfft = max(2**12, N)\n",
    "    window = signal.get_window(window, 2 * N1 - 1, fftbins=False)\n",
    "    Rx = (\n",
    "        auto_correlation(x, N1, mode=auto_correlation_mode)\n",
    "        * window[N1 - 1 : 2 * N1 : 1]\n",
    "    )\n",
    "    return (\n",
    "        fs * np.arange(Nfft) / Nfft,\n",
    "        (2 * np.fft.fft(Rx, Nfft).real - Rx[0]) / fs,\n",
    "    )"
   ]
  },
  {
   "cell_type": "markdown",
   "metadata": {
    "id": "y3XNahDea32Y"
   },
   "source": [
    "## Задача 4.3*. Оценка кросс-спектральной плотности мощности \n",
    "\n",
    "| Варианты: |       1      |     2     |         3        |      4     |        5        |        6       |\n",
    "|:---------:|:------------:|:---------:|:----------------:|:----------:|:---------------:|:--------------:|\n",
    "| **Имя файла** | variant_1_ex_3_3.npy | variant_2_ex_3_3.npy | variant_3_ex_3_3.npy | variant_4_ex_3_3.npy | variant_5_ex_3_3.npy| variant_6_ex_3_3.npy|\n",
    "\n",
    "Для данных из файла (см. таблицу) об отсчетах сигналов из ансамбля реализаций случайных процессов $x(t)$ и $y(t)$ построить с помощью метода Уэлча\n",
    "* оценку СПМ процесса $x(t)$,\n",
    "* оценку СПМ процесса $y(t)$,\n",
    "* модуль оценки взаимной СПМ процессов  $x(t)$ и $y(t)$.\n",
    "\n",
    "Параметры оценок определить самостоятельно. Сделать выводы. "
   ]
  },
  {
   "cell_type": "code",
   "execution_count": null,
   "metadata": {
    "id": "LcGvoAUWa32Z"
   },
   "outputs": [],
   "source": [
    "x, y = np.load(\"variant_N_ex_3_3.npy\")"
   ]
  },
  {
   "cell_type": "code",
   "execution_count": null,
   "metadata": {
    "id": "Y6C-7F93a32Z"
   },
   "outputs": [],
   "source": []
  },
  {
   "cell_type": "markdown",
   "metadata": {
    "id": "dMANvzBca32a"
   },
   "source": [
    "## Задача 4.4. Периодограмма Ломба-Скаргла\n",
    "\n",
    "| Варианты: |       1      |     2     |         3        |      4     |        5        |        6       |\n",
    "|:---------:|:------------:|:---------:|:----------------:|:----------:|:---------------:|:--------------:|\n",
    "| **Имя файла** | variant_1_ex_3_4.npy | variant_2_ex_3_4.npy | variant_3_ex_3_4.npy | variant_4_ex_3_4.npy | variant_5_ex_3_4.npy| variant_6_ex_3_4.npy|\n",
    "\n",
    "Постройте периодограмму Ломба-Скаргла для данных, представленных в файле, который соответствует номеру Вашего варианта.\n",
    "Известно, что исходный сигнал до взятия отсчетов с неравномерным шагом имеел форму\n",
    "$$x(t)=a_1 \\sin(2\\pi f_1 t) + a_2 \\sin(2\\pi f_2 t)+  \\varepsilon(t),$$\n",
    "где $\\varepsilon(t)$ — реализация белого шума с нулевым математическим ожиданием и дисперсией $\\sigma^2>0$, причем частоты $ f_1$, $ f_2 $ представлены целым числом килогерц и не превосходят 8 кГц. Оцените частоты $ f_1$ и $ f_2 $, используя периодограмму Ломба-Скаргла.\n",
    "\n",
    "Ниже приведен пример кода, позволяющий выгрузить отчеты сигнала $x(t_i)$  (`x`) в моменты времени $t_i$ (`t`). "
   ]
  },
  {
   "cell_type": "code",
   "execution_count": null,
   "metadata": {
    "id": "Zsz0PxAka32a"
   },
   "outputs": [],
   "source": [
    "x, t = np.load(\"variant_N_ex_3_4.npy\")"
   ]
  },
  {
   "cell_type": "code",
   "execution_count": null,
   "metadata": {
    "id": "59O3GzUEa32a"
   },
   "outputs": [],
   "source": []
  }
 ],
 "metadata": {
  "colab": {
   "collapsed_sections": [],
   "name": "lab5_task_.ipynb",
   "provenance": []
  },
  "kernelspec": {
   "display_name": "Python 3 (ipykernel)",
   "language": "python",
   "name": "python3"
  },
  "language_info": {
   "codemirror_mode": {
    "name": "ipython",
    "version": 3
   },
   "file_extension": ".py",
   "mimetype": "text/x-python",
   "name": "python",
   "nbconvert_exporter": "python",
   "pygments_lexer": "ipython3",
   "version": "3.10.12"
  }
 },
 "nbformat": 4,
 "nbformat_minor": 1
}
